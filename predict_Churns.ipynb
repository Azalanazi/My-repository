{
 "cells": [
  {
   "cell_type": "code",
   "execution_count": null,
   "id": "35b30dfe",
   "metadata": {},
   "outputs": [],
   "source": [
    "import pandas as pd\n",
    "from pycaret.classification import predict_model, load_model\n",
    "\n",
    "def load_data(filepath):\n",
    "    \"\"\"\n",
    "    Loads Churn data into a DataFrame from a string filepath.\n",
    "    \"\"\"\n",
    "    df = pd.read_csv('/Users/newuser/Downloads/prepped_Churn_data.csv')\n",
    "    return df\n",
    "\n",
    "\n",
    "def make_predictions(df):\n",
    "    \"\"\"\n",
    "    Uses the pycaret best model to make predictions on data in the df dataframe.\n",
    "    \"\"\"\n",
    "    model = load_model('GBC')\n",
    "    predictions = predict_model(model, data=df)\n",
    "    predictions.rename({'Label': 'Churns_prediction'}, axis=1, inplace=True)\n",
    "    predictions['Churns_prediction'].replace({1: 'Churn', 0: 'No Churn'},\n",
    "                                            inplace=True)\n",
    "    return predictions['Churns_prediction']\n",
    "\n",
    "\n",
    "if __name__ == \"__main__\":\n",
    "    df = load_data('data/prepped_Churn_data.csv')\n",
    "    predictions = make_predictions(df)\n",
    "    print('predictions:')\n",
    "    print(predictions)"
   ]
  }
 ],
 "metadata": {
  "kernelspec": {
   "display_name": "Python 3",
   "language": "python",
   "name": "python3"
  },
  "language_info": {
   "codemirror_mode": {
    "name": "ipython",
    "version": 3
   },
   "file_extension": ".py",
   "mimetype": "text/x-python",
   "name": "python",
   "nbconvert_exporter": "python",
   "pygments_lexer": "ipython3",
   "version": "3.8.8"
  }
 },
 "nbformat": 4,
 "nbformat_minor": 5
}
